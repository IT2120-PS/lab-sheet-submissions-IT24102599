{
 "cells": [
  {
   "cell_type": "code",
   "execution_count": 28,
   "id": "42271b05-ee19-4d66-83c2-a6414b2e795a",
   "metadata": {},
   "outputs": [],
   "source": [
    "import pandas as pd\n",
    "import numpy as np\n",
    "import seaborn as sns\n",
    "import matplotlib.pyplot as plt"
   ]
  },
  {
   "cell_type": "code",
   "execution_count": 2,
   "id": "5e2e815e-089a-4428-abc0-7886ba6f080c",
   "metadata": {},
   "outputs": [],
   "source": [
    "df = pd.read_csv(\"student_data.csv\")"
   ]
  },
  {
   "cell_type": "code",
   "execution_count": 3,
   "id": "a83ce023-16da-451f-b891-4cd01d9a2d66",
   "metadata": {},
   "outputs": [
    {
     "data": {
      "text/html": [
       "<div>\n",
       "<style scoped>\n",
       "    .dataframe tbody tr th:only-of-type {\n",
       "        vertical-align: middle;\n",
       "    }\n",
       "\n",
       "    .dataframe tbody tr th {\n",
       "        vertical-align: top;\n",
       "    }\n",
       "\n",
       "    .dataframe thead th {\n",
       "        text-align: right;\n",
       "    }\n",
       "</style>\n",
       "<table border=\"1\" class=\"dataframe\">\n",
       "  <thead>\n",
       "    <tr style=\"text-align: right;\">\n",
       "      <th></th>\n",
       "      <th>StudentID</th>\n",
       "      <th>Gender</th>\n",
       "      <th>Age</th>\n",
       "      <th>Country</th>\n",
       "      <th>Lessons Completed</th>\n",
       "      <th>Quiz Score</th>\n",
       "      <th>Time Per Week</th>\n",
       "      <th>Result</th>\n",
       "    </tr>\n",
       "  </thead>\n",
       "  <tbody>\n",
       "    <tr>\n",
       "      <th>0</th>\n",
       "      <td>S001</td>\n",
       "      <td>Male</td>\n",
       "      <td>20.0</td>\n",
       "      <td>India</td>\n",
       "      <td>25</td>\n",
       "      <td>78.5</td>\n",
       "      <td>10</td>\n",
       "      <td>Pass</td>\n",
       "    </tr>\n",
       "    <tr>\n",
       "      <th>1</th>\n",
       "      <td>S002</td>\n",
       "      <td>Female</td>\n",
       "      <td>22.0</td>\n",
       "      <td>USA</td>\n",
       "      <td>30</td>\n",
       "      <td>82.0</td>\n",
       "      <td>12</td>\n",
       "      <td>Pass</td>\n",
       "    </tr>\n",
       "    <tr>\n",
       "      <th>2</th>\n",
       "      <td>S003</td>\n",
       "      <td>Male</td>\n",
       "      <td>19.0</td>\n",
       "      <td>Sri Lanka</td>\n",
       "      <td>18</td>\n",
       "      <td>45.0</td>\n",
       "      <td>8</td>\n",
       "      <td>Fail</td>\n",
       "    </tr>\n",
       "    <tr>\n",
       "      <th>3</th>\n",
       "      <td>S004</td>\n",
       "      <td>Female</td>\n",
       "      <td>21.0</td>\n",
       "      <td>India</td>\n",
       "      <td>28</td>\n",
       "      <td>88.0</td>\n",
       "      <td>9</td>\n",
       "      <td>Pass</td>\n",
       "    </tr>\n",
       "    <tr>\n",
       "      <th>4</th>\n",
       "      <td>S005</td>\n",
       "      <td>Female</td>\n",
       "      <td>18.0</td>\n",
       "      <td>USA</td>\n",
       "      <td>15</td>\n",
       "      <td>35.0</td>\n",
       "      <td>5</td>\n",
       "      <td>Fail</td>\n",
       "    </tr>\n",
       "  </tbody>\n",
       "</table>\n",
       "</div>"
      ],
      "text/plain": [
       "  StudentID  Gender   Age    Country  Lessons Completed  Quiz Score  \\\n",
       "0      S001    Male  20.0      India                 25        78.5   \n",
       "1      S002  Female  22.0        USA                 30        82.0   \n",
       "2      S003    Male  19.0  Sri Lanka                 18        45.0   \n",
       "3      S004  Female  21.0      India                 28        88.0   \n",
       "4      S005  Female  18.0        USA                 15        35.0   \n",
       "\n",
       "   Time Per Week Result  \n",
       "0             10   Pass  \n",
       "1             12   Pass  \n",
       "2              8   Fail  \n",
       "3              9   Pass  \n",
       "4              5   Fail  "
      ]
     },
     "metadata": {},
     "output_type": "display_data"
    }
   ],
   "source": [
    "display(df.head())"
   ]
  },
  {
   "cell_type": "code",
   "execution_count": 4,
   "id": "1710ad6b-65bd-4e26-860e-31d3ff0d2a48",
   "metadata": {},
   "outputs": [
    {
     "name": "stdout",
     "output_type": "stream",
     "text": [
      "['StudentID', 'Gender', 'Age', 'Country', 'Lessons Completed', 'Quiz Score', 'Time Per Week', 'Result']\n"
     ]
    }
   ],
   "source": [
    "print(list(df.columns))"
   ]
  },
  {
   "cell_type": "code",
   "execution_count": 5,
   "id": "2b7b4cf5-5e28-4221-8f41-c5e87ce66150",
   "metadata": {},
   "outputs": [
    {
     "name": "stdout",
     "output_type": "stream",
     "text": [
      "<class 'pandas.core.frame.DataFrame'>\n",
      "RangeIndex: 20 entries, 0 to 19\n",
      "Data columns (total 8 columns):\n",
      " #   Column             Non-Null Count  Dtype  \n",
      "---  ------             --------------  -----  \n",
      " 0   StudentID          20 non-null     object \n",
      " 1   Gender             20 non-null     object \n",
      " 2   Age                18 non-null     float64\n",
      " 3   Country            20 non-null     object \n",
      " 4   Lessons Completed  20 non-null     int64  \n",
      " 5   Quiz Score         18 non-null     float64\n",
      " 6   Time Per Week      20 non-null     int64  \n",
      " 7   Result             20 non-null     object \n",
      "dtypes: float64(2), int64(2), object(4)\n",
      "memory usage: 1.4+ KB\n"
     ]
    }
   ],
   "source": [
    "df.info()"
   ]
  },
  {
   "cell_type": "code",
   "execution_count": 7,
   "id": "8821a8df-3861-4a34-b748-f7ed4cb0e69b",
   "metadata": {},
   "outputs": [
    {
     "data": {
      "text/html": [
       "<div>\n",
       "<style scoped>\n",
       "    .dataframe tbody tr th:only-of-type {\n",
       "        vertical-align: middle;\n",
       "    }\n",
       "\n",
       "    .dataframe tbody tr th {\n",
       "        vertical-align: top;\n",
       "    }\n",
       "\n",
       "    .dataframe thead th {\n",
       "        text-align: right;\n",
       "    }\n",
       "</style>\n",
       "<table border=\"1\" class=\"dataframe\">\n",
       "  <thead>\n",
       "    <tr style=\"text-align: right;\">\n",
       "      <th></th>\n",
       "      <th>Age</th>\n",
       "      <th>Lessons Completed</th>\n",
       "      <th>Quiz Score</th>\n",
       "      <th>Time Per Week</th>\n",
       "    </tr>\n",
       "  </thead>\n",
       "  <tbody>\n",
       "    <tr>\n",
       "      <th>count</th>\n",
       "      <td>18.000000</td>\n",
       "      <td>20.000000</td>\n",
       "      <td>18.000000</td>\n",
       "      <td>20.000000</td>\n",
       "    </tr>\n",
       "    <tr>\n",
       "      <th>mean</th>\n",
       "      <td>21.722222</td>\n",
       "      <td>22.350000</td>\n",
       "      <td>62.194444</td>\n",
       "      <td>8.550000</td>\n",
       "    </tr>\n",
       "    <tr>\n",
       "      <th>std</th>\n",
       "      <td>2.136670</td>\n",
       "      <td>7.596918</td>\n",
       "      <td>25.133256</td>\n",
       "      <td>3.316228</td>\n",
       "    </tr>\n",
       "    <tr>\n",
       "      <th>min</th>\n",
       "      <td>18.000000</td>\n",
       "      <td>10.000000</td>\n",
       "      <td>20.000000</td>\n",
       "      <td>3.000000</td>\n",
       "    </tr>\n",
       "    <tr>\n",
       "      <th>25%</th>\n",
       "      <td>20.000000</td>\n",
       "      <td>17.250000</td>\n",
       "      <td>41.250000</td>\n",
       "      <td>6.000000</td>\n",
       "    </tr>\n",
       "    <tr>\n",
       "      <th>50%</th>\n",
       "      <td>21.500000</td>\n",
       "      <td>23.500000</td>\n",
       "      <td>71.000000</td>\n",
       "      <td>8.500000</td>\n",
       "    </tr>\n",
       "    <tr>\n",
       "      <th>75%</th>\n",
       "      <td>23.000000</td>\n",
       "      <td>28.250000</td>\n",
       "      <td>83.500000</td>\n",
       "      <td>10.250000</td>\n",
       "    </tr>\n",
       "    <tr>\n",
       "      <th>max</th>\n",
       "      <td>26.000000</td>\n",
       "      <td>35.000000</td>\n",
       "      <td>95.000000</td>\n",
       "      <td>15.000000</td>\n",
       "    </tr>\n",
       "  </tbody>\n",
       "</table>\n",
       "</div>"
      ],
      "text/plain": [
       "             Age  Lessons Completed  Quiz Score  Time Per Week\n",
       "count  18.000000          20.000000   18.000000      20.000000\n",
       "mean   21.722222          22.350000   62.194444       8.550000\n",
       "std     2.136670           7.596918   25.133256       3.316228\n",
       "min    18.000000          10.000000   20.000000       3.000000\n",
       "25%    20.000000          17.250000   41.250000       6.000000\n",
       "50%    21.500000          23.500000   71.000000       8.500000\n",
       "75%    23.000000          28.250000   83.500000      10.250000\n",
       "max    26.000000          35.000000   95.000000      15.000000"
      ]
     },
     "execution_count": 7,
     "metadata": {},
     "output_type": "execute_result"
    }
   ],
   "source": [
    "df.describe()"
   ]
  },
  {
   "cell_type": "code",
   "execution_count": 8,
   "id": "2d7cc20d-4493-4e6e-96eb-3aa14954e4a0",
   "metadata": {},
   "outputs": [
    {
     "name": "stdout",
     "output_type": "stream",
     "text": [
      "StudentID            0\n",
      "Gender               0\n",
      "Age                  2\n",
      "Country              0\n",
      "Lessons Completed    0\n",
      "Quiz Score           2\n",
      "Time Per Week        0\n",
      "Result               0\n",
      "dtype: int64\n"
     ]
    }
   ],
   "source": [
    "missing_values = df.isnull().sum()\n",
    "print(missing_values)"
   ]
  },
  {
   "cell_type": "code",
   "execution_count": 9,
   "id": "b77524d1-6e1d-47bd-adc6-d22d9a38aa86",
   "metadata": {},
   "outputs": [
    {
     "name": "stdout",
     "output_type": "stream",
     "text": [
      "Total missing values in dataset: 4\n"
     ]
    }
   ],
   "source": [
    "total_missing = df.isnull().sum().sum()\n",
    "print(\"Total missing values in dataset:\", total_missing)\n"
   ]
  },
  {
   "cell_type": "code",
   "execution_count": 10,
   "id": "a961aff1-4b57-49fe-9753-d8505931378d",
   "metadata": {},
   "outputs": [
    {
     "name": "stdout",
     "output_type": "stream",
     "text": [
      "   StudentID  Gender   Age    Country  Lessons Completed  Quiz Score  \\\n",
      "5       S006    Male   NaN  Sri Lanka                 10        25.0   \n",
      "7       S008  Female  23.0        USA                 20         NaN   \n",
      "13      S014  Female   NaN      India                 26        80.0   \n",
      "14      S015    Male  23.0        USA                 22         NaN   \n",
      "\n",
      "    Time Per Week Result  \n",
      "5               4   Fail  \n",
      "7              11   Pass  \n",
      "13              9   Pass  \n",
      "14              7   Pass  \n"
     ]
    }
   ],
   "source": [
    "rows_with_missing = df[df.isnull().any(axis=1)]\n",
    "print(rows_with_missing)\n"
   ]
  },
  {
   "cell_type": "code",
   "execution_count": 18,
   "id": "d075d75b-9566-4072-9a03-ab1696235757",
   "metadata": {},
   "outputs": [],
   "source": [
    "df.fillna(df['Age'].mean(), inplace=True)\n",
    "df.fillna(df['Quiz Score'].mean(), inplace=True)"
   ]
  },
  {
   "cell_type": "code",
   "execution_count": 19,
   "id": "ba429c20-64a3-42e9-baa0-670680f0de3c",
   "metadata": {},
   "outputs": [],
   "source": [
    "df[\"Gender\"] = df[\"Gender\"].map({\"Male\": 1,\"Female\" : 0})\n",
    "df[\"Result\"] = df[\"Result\"].map({\"Pass\":1, \"Fail\":0})"
   ]
  },
  {
   "cell_type": "code",
   "execution_count": 33,
   "id": "4f7e9006-ec37-4757-90d0-be80a438cf57",
   "metadata": {},
   "outputs": [],
   "source": [
    "df[\"Engagement Level\"] = df[\"Lessons Completed\"] / (df[\"Time Per Week\"] + 0.0001)"
   ]
  },
  {
   "cell_type": "code",
   "execution_count": 35,
   "id": "37500005-d2b8-4c52-b48a-e2b717e50724",
   "metadata": {},
   "outputs": [],
   "source": [
    "from sklearn.preprocessing import MinMaxScaler"
   ]
  },
  {
   "cell_type": "code",
   "execution_count": 36,
   "id": "bfd404ba-014a-41b7-8029-918a933246d1",
   "metadata": {},
   "outputs": [
    {
     "data": {
      "text/html": [
       "<div>\n",
       "<style scoped>\n",
       "    .dataframe tbody tr th:only-of-type {\n",
       "        vertical-align: middle;\n",
       "    }\n",
       "\n",
       "    .dataframe tbody tr th {\n",
       "        vertical-align: top;\n",
       "    }\n",
       "\n",
       "    .dataframe thead th {\n",
       "        text-align: right;\n",
       "    }\n",
       "</style>\n",
       "<table border=\"1\" class=\"dataframe\">\n",
       "  <thead>\n",
       "    <tr style=\"text-align: right;\">\n",
       "      <th></th>\n",
       "      <th>StudentID</th>\n",
       "      <th>Gender</th>\n",
       "      <th>Age</th>\n",
       "      <th>Country</th>\n",
       "      <th>Lessons Completed</th>\n",
       "      <th>Quiz Score</th>\n",
       "      <th>Time Per Week</th>\n",
       "      <th>Result</th>\n",
       "      <th>Engagment Level</th>\n",
       "      <th>Engagement Level</th>\n",
       "    </tr>\n",
       "  </thead>\n",
       "  <tbody>\n",
       "    <tr>\n",
       "      <th>0</th>\n",
       "      <td>S001</td>\n",
       "      <td>1</td>\n",
       "      <td>0.250</td>\n",
       "      <td>India</td>\n",
       "      <td>0.60</td>\n",
       "      <td>0.780000</td>\n",
       "      <td>0.583333</td>\n",
       "      <td>1</td>\n",
       "      <td>2.499975</td>\n",
       "      <td>0.388892</td>\n",
       "    </tr>\n",
       "    <tr>\n",
       "      <th>1</th>\n",
       "      <td>S002</td>\n",
       "      <td>0</td>\n",
       "      <td>0.500</td>\n",
       "      <td>USA</td>\n",
       "      <td>0.80</td>\n",
       "      <td>0.826667</td>\n",
       "      <td>0.750000</td>\n",
       "      <td>1</td>\n",
       "      <td>2.499979</td>\n",
       "      <td>0.388894</td>\n",
       "    </tr>\n",
       "    <tr>\n",
       "      <th>2</th>\n",
       "      <td>S003</td>\n",
       "      <td>1</td>\n",
       "      <td>0.125</td>\n",
       "      <td>Sri Lanka</td>\n",
       "      <td>0.32</td>\n",
       "      <td>0.333333</td>\n",
       "      <td>0.416667</td>\n",
       "      <td>0</td>\n",
       "      <td>2.249972</td>\n",
       "      <td>0.246295</td>\n",
       "    </tr>\n",
       "    <tr>\n",
       "      <th>3</th>\n",
       "      <td>S004</td>\n",
       "      <td>0</td>\n",
       "      <td>0.375</td>\n",
       "      <td>India</td>\n",
       "      <td>0.72</td>\n",
       "      <td>0.906667</td>\n",
       "      <td>0.500000</td>\n",
       "      <td>1</td>\n",
       "      <td>3.111077</td>\n",
       "      <td>0.737453</td>\n",
       "    </tr>\n",
       "    <tr>\n",
       "      <th>4</th>\n",
       "      <td>S005</td>\n",
       "      <td>0</td>\n",
       "      <td>0.000</td>\n",
       "      <td>USA</td>\n",
       "      <td>0.20</td>\n",
       "      <td>0.200000</td>\n",
       "      <td>0.166667</td>\n",
       "      <td>0</td>\n",
       "      <td>2.999940</td>\n",
       "      <td>0.674063</td>\n",
       "    </tr>\n",
       "  </tbody>\n",
       "</table>\n",
       "</div>"
      ],
      "text/plain": [
       "  StudentID  Gender    Age    Country  Lessons Completed  Quiz Score  \\\n",
       "0      S001       1  0.250      India               0.60    0.780000   \n",
       "1      S002       0  0.500        USA               0.80    0.826667   \n",
       "2      S003       1  0.125  Sri Lanka               0.32    0.333333   \n",
       "3      S004       0  0.375      India               0.72    0.906667   \n",
       "4      S005       0  0.000        USA               0.20    0.200000   \n",
       "\n",
       "   Time Per Week  Result  Engagment Level  Engagement Level  \n",
       "0       0.583333       1         2.499975          0.388892  \n",
       "1       0.750000       1         2.499979          0.388894  \n",
       "2       0.416667       0         2.249972          0.246295  \n",
       "3       0.500000       1         3.111077          0.737453  \n",
       "4       0.166667       0         2.999940          0.674063  "
      ]
     },
     "execution_count": 36,
     "metadata": {},
     "output_type": "execute_result"
    }
   ],
   "source": [
    "scaler = MinMaxScaler()\n",
    "scale_cols = [\"Age\",\"Lessons Completed\",\"Quiz Score\",\"Time Per Week\",\"Engagement Level\"]\n",
    "df[scale_cols] = scaler.fit_transform(df[scale_cols])\n",
    "df.head()"
   ]
  },
  {
   "cell_type": "code",
   "execution_count": 40,
   "id": "64dca231-bef9-4755-934e-811deda07f3e",
   "metadata": {},
   "outputs": [],
   "source": [
    "X = df.drop(columns=[\"StudentID\",\"Result\",\"Country\"])\n",
    "y = df[\"Result\"]"
   ]
  },
  {
   "cell_type": "code",
   "execution_count": 43,
   "id": "12b11c8f-9a29-4b7e-8f9b-f19bcef8fae3",
   "metadata": {},
   "outputs": [],
   "source": [
    "from sklearn.model_selection import train_test_split"
   ]
  },
  {
   "cell_type": "code",
   "execution_count": 48,
   "id": "5e0a7593-a2b9-4ad0-9419-08f5f440f528",
   "metadata": {},
   "outputs": [],
   "source": [
    "X_train,X_test, y_train, y_test = train_test_split(X,y, test_size=0.2,random_state=42)"
   ]
  },
  {
   "cell_type": "code",
   "execution_count": 49,
   "id": "b48919ff-a184-4627-adb4-865f90c0775e",
   "metadata": {},
   "outputs": [],
   "source": [
    "from sklearn.ensemble import RandomForestClassifier"
   ]
  },
  {
   "cell_type": "code",
   "execution_count": 50,
   "id": "2fb444eb-59b9-4ab0-9d90-2ec5dabf8cd8",
   "metadata": {},
   "outputs": [],
   "source": [
    "model =  RandomForestClassifier(random_state=42)\n",
    "model.fit(X_train,y_train)\n",
    "y_pred = model.predict(X_test)"
   ]
  },
  {
   "cell_type": "code",
   "execution_count": 51,
   "id": "6d8e5f42-2f39-404b-9da1-f74901173496",
   "metadata": {},
   "outputs": [
    {
     "name": "stdout",
     "output_type": "stream",
     "text": [
      "Accuracy:  1.0\n",
      "              precision    recall  f1-score   support\n",
      "\n",
      "           0       1.00      1.00      1.00         1\n",
      "           1       1.00      1.00      1.00         3\n",
      "\n",
      "    accuracy                           1.00         4\n",
      "   macro avg       1.00      1.00      1.00         4\n",
      "weighted avg       1.00      1.00      1.00         4\n",
      "\n"
     ]
    }
   ],
   "source": [
    "from  sklearn.metrics import classification_report,accuracy_score\n",
    "\n",
    "print(\"Accuracy: \",accuracy_score(y_test,y_pred))\n",
    "print(classification_report(y_test,y_pred))"
   ]
  },
  {
   "cell_type": "code",
   "execution_count": 52,
   "id": "8995be60-f8cb-430b-be4f-6f4a7ed08f37",
   "metadata": {},
   "outputs": [],
   "source": [
    "import matplotlib.pyplot as plt\n",
    "import seaborn as sns"
   ]
  },
  {
   "cell_type": "code",
   "execution_count": 59,
   "id": "77e9966e-89a6-484f-9501-315a64d3dc53",
   "metadata": {},
   "outputs": [
    {
     "data": {
      "image/png": "[encoded data removed]",
      "text/plain": [
       "<Figure size 800x500 with 1 Axes>"
      ]
     },
     "metadata": {},
     "output_type": "display_data"
    }
   ],
   "source": [
    "importances = model.feature_importances_\n",
    "features = X.columns\n",
    "\n",
    "\n",
    "plt.figure(figsize=(8,5))\n",
    "sns.barplot(x=importances, y=features)\n",
    "plt.title(\"Features Importances\")\n",
    "plt.xlabel(\"Importance\")\n",
    "plt.ylabel(\"Features\")\n",
    "plt.tight_layout()\n",
    "plt.show()"
   ]
  },
  {
   "cell_type": "code",
   "execution_count": null,
   "id": "4199c5f9-87ec-4889-bb20-c060e71e8fe9",
   "metadata": {},
   "outputs": [],
   "source": []
  }
 ],
 "metadata": {
  "kernelspec": {
   "display_name": "Python 3 (ipykernel)",
   "language": "python",
   "name": "python3"
  },
  "language_info": {
   "codemirror_mode": {
    "name": "ipython",
    "version": 3
   },
   "file_extension": ".py",
   "mimetype": "text/x-python",
   "name": "python",
   "nbconvert_exporter": "python",
   "pygments_lexer": "ipython3",
   "version": "3.9.13"
  }
 },
 "nbformat": 4,
 "nbformat_minor": 5
}
